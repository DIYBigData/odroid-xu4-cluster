{
 "cells": [
  {
   "cell_type": "code",
   "execution_count": 1,
   "metadata": {
    "collapsed": false
   },
   "outputs": [],
   "source": [
    "from pyspark.sql.types import StructType, StructField\n",
    "from pyspark.sql.types import DoubleType, IntegerType, StringType, DecimalType, LongType\n",
    "\n",
    "air_schema = StructType([\n",
    "    StructField(\"Year\", IntegerType()),\n",
    "    StructField(\"Quarter\", IntegerType()),\n",
    "    StructField(\"Month\", IntegerType()),\n",
    "    StructField(\"DayofMonth\", IntegerType()),\n",
    "    StructField(\"DayOfWeek\", IntegerType()),\n",
    "    StructField(\"FlightDate\", StringType()),\n",
    "    StructField(\"UniqueCarrier\", StringType()),\n",
    "    StructField(\"AirlineID\", LongType()),\n",
    "    StructField(\"Carrier\", StringType()),\n",
    "    StructField(\"TailNum\", StringType()),\n",
    "    StructField(\"FlightNum\", IntegerType()),\n",
    "    StructField(\"OriginAirportID\", IntegerType()),\n",
    "    StructField(\"OriginAirportSeqID\", IntegerType()),\n",
    "    StructField(\"OriginCityMarketID\", IntegerType()),\n",
    "    StructField(\"Origin\", StringType()),\n",
    "    StructField(\"OriginCityName\", StringType()),\n",
    "    StructField(\"OriginState\", StringType()),\n",
    "    StructField(\"OriginStateFips\", IntegerType()),\n",
    "    StructField(\"OriginStateName\", StringType()),\n",
    "    StructField(\"OriginWac\", IntegerType()),\n",
    "    StructField(\"DestAirportID\", IntegerType()),\n",
    "    StructField(\"DestAirportSeqID\", IntegerType()),\n",
    "    StructField(\"DestCityMarketID\", IntegerType()),\n",
    "    StructField(\"Dest\", StringType()),\n",
    "    StructField(\"DestCityName\", StringType()),\n",
    "    StructField(\"DestState\", StringType()),\n",
    "    StructField(\"DestStateFips\", IntegerType()),\n",
    "    StructField(\"DestStateName\", StringType()),\n",
    "    StructField(\"DestWac\", IntegerType()),\n",
    "    StructField(\"CRSDepTime\", StringType()),\n",
    "    StructField(\"DepTime\", StringType()),\n",
    "    StructField(\"DepDelay\", DoubleType()),\n",
    "    StructField(\"DepDelayMinutes\", DoubleType()),\n",
    "    StructField(\"DepDel15\", DoubleType()),\n",
    "    StructField(\"DepartureDelayGroups\", IntegerType()),\n",
    "    StructField(\"DepTimeBlk\", StringType()),\n",
    "    StructField(\"TaxiOut\", DoubleType()),\n",
    "    StructField(\"WheelsOff\", StringType()),\n",
    "    StructField(\"WheelsOn\", StringType()),\n",
    "    StructField(\"TaxiIn\", DoubleType()),\n",
    "    StructField(\"CRSArrTime\", StringType()),\n",
    "    StructField(\"ArrTime\", StringType()),\n",
    "    StructField(\"ArrDelay\", DoubleType()),\n",
    "    StructField(\"ArrDelayMinutes\", DoubleType()),\n",
    "    StructField(\"ArrDel15\", DoubleType()),\n",
    "    StructField(\"ArrivalDelayGroups\", IntegerType()),\n",
    "    StructField(\"ArrTimeBlk\", StringType()),\n",
    "    StructField(\"Cancelled\", DoubleType()),\n",
    "    StructField(\"CancellationCode\", StringType()),\n",
    "    StructField(\"Diverted\", DoubleType()),\n",
    "    StructField(\"CRSElapsedTime\", DoubleType()),\n",
    "    StructField(\"ActualElapsedTime\", DoubleType()),\n",
    "    StructField(\"AirTime\", DoubleType()),\n",
    "    StructField(\"Flights\", DoubleType()),\n",
    "    StructField(\"Distance\", DoubleType()),\n",
    "    StructField(\"DistanceGroup\", IntegerType()),\n",
    "    StructField(\"CarrierDelay\", DoubleType()),\n",
    "    StructField(\"WeatherDelay\", DoubleType()),\n",
    "    StructField(\"NASDelay\", DoubleType()),\n",
    "    StructField(\"SecurityDelay\", DoubleType()),\n",
    "    StructField(\"LateAircraftDelay\", DoubleType()),\n",
    "    StructField(\"FirstDepTime\", StringType()),\n",
    "    StructField(\"TotalAddGTime\", StringType()),\n",
    "    StructField(\"LongestAddGTime\", StringType()),\n",
    "    StructField(\"DivAirportLandings\", StringType()),\n",
    "    StructField(\"DivReachedDest\", StringType()),\n",
    "    StructField(\"DivActualElapsedTime\", StringType()),\n",
    "    StructField(\"DivArrDelay\", StringType()),\n",
    "    StructField(\"DivDistance\", StringType()),\n",
    "    StructField(\"Div1Airport\", StringType()),\n",
    "    StructField(\"Div1AirportID\", StringType()),\n",
    "    StructField(\"Div1AirportSeqID\", StringType()),\n",
    "    StructField(\"Div1WheelsOn\", StringType()),\n",
    "    StructField(\"Div1TotalGTime\", StringType()),\n",
    "    StructField(\"Div1LongestGTime\", StringType()),\n",
    "    StructField(\"Div1WheelsOff\", StringType()),\n",
    "    StructField(\"Div1TailNum\", StringType()),\n",
    "    StructField(\"Div2Airport\", StringType()),\n",
    "    StructField(\"Div2AirportID\", StringType()),\n",
    "    StructField(\"Div2AirportSeqID\", StringType()),\n",
    "    StructField(\"Div2WheelsOn\", StringType()),\n",
    "    StructField(\"Div2TotalGTime\", StringType()),\n",
    "    StructField(\"Div2LongestGTime\", StringType()),\n",
    "    StructField(\"Div2WheelsOff\", StringType()),\n",
    "    StructField(\"Div2TailNum\", StringType()),\n",
    "    StructField(\"Div3Airport\", StringType()),\n",
    "    StructField(\"Div3AirportID\", StringType()),\n",
    "    StructField(\"Div3AirportSeqID\", StringType()),\n",
    "    StructField(\"Div3WheelsOn\", StringType()),\n",
    "    StructField(\"Div3TotalGTime\", StringType()),\n",
    "    StructField(\"Div3LongestGTime\", StringType()),\n",
    "    StructField(\"Div3WheelsOff\", StringType()),\n",
    "    StructField(\"Div3TailNum\", StringType()),\n",
    "    StructField(\"Div4Airport\", StringType()),\n",
    "    StructField(\"Div4AirportID\", StringType()),\n",
    "    StructField(\"Div4AirportSeqID\", StringType()),\n",
    "    StructField(\"Div4WheelsOn\", StringType()),\n",
    "    StructField(\"Div4TotalGTime\", StringType()),\n",
    "    StructField(\"Div4LongestGTime\", StringType()),\n",
    "    StructField(\"Div4WheelsOff\", StringType()),\n",
    "    StructField(\"Div4TailNum\", StringType()),\n",
    "    StructField(\"Div5Airport\", StringType()),\n",
    "    StructField(\"Div5AirportID\", StringType()),\n",
    "    StructField(\"Div5AirportSeqID\", StringType()),\n",
    "    StructField(\"Div5WheelsOn\", StringType()),\n",
    "    StructField(\"Div5TotalGTime\", StringType()),\n",
    "    StructField(\"Div5LongestGTime\", StringType()),\n",
    "    StructField(\"Div5WheelsOff\", StringType()),\n",
    "    StructField(\"Div5TailNum\", StringType())\n",
    "])\n",
    "\n"
   ]
  },
  {
   "cell_type": "code",
   "execution_count": 2,
   "metadata": {
    "collapsed": false
   },
   "outputs": [
    {
     "name": "stdout",
     "output_type": "stream",
     "text": [
      "Gathering files ...\n",
      "2005_1, 2005_2, 2005_3, 2005_4, 2005_5, 2005_6, 2005_7, 2005_8, 2005_9, 2005_10, 2005_11, 2005_12, 2006_1, 2006_2, 2006_3, 2006_4, 2006_5, 2006_6, 2006_7, 2006_8, 2006_9, 2006_10, 2006_11, 2006_12, 2007_1, 2007_2, 2007_3, 2007_4, 2007_5, 2007_6, 2007_7, 2007_8, 2007_9, 2007_10, 2007_11, 2007_12, 2008_1, 2008_2, 2008_3, 2008_4, 2008_5, 2008_6, 2008_7, 2008_8, 2008_9, 2008_10, 2008_11, 2008_12, 2009_1, 2009_2, 2009_3, 2009_4, 2009_5, 2009_6, 2009_7, 2009_8, 2009_9, 2009_10, 2009_11, 2009_12, 2010_1, 2010_2, 2010_3, 2010_4, 2010_5, 2010_6, 2010_7, 2010_8, 2010_9, 2010_10, 2010_11, 2010_12, 2011_1, 2011_2, 2011_3, 2011_4, 2011_5, 2011_6, 2011_7, 2011_8, 2011_9, 2011_10, 2011_11, 2011_12, 2012_1, 2012_2, 2012_3, 2012_4, 2012_5, 2012_6, 2012_7, 2012_8, 2012_9, 2012_10, 2012_11, 2012_12, 2013_1, 2013_2, 2013_3, 2013_4, 2013_5, 2013_6, 2013_7, 2013_8, 2013_9, 2013_10, 2013_11, 2013_12, 2014_1, 2014_2, 2014_3, 2014_4, 2014_5, 2014_6, 2014_7, 2014_8, 2014_9, 2014_10, 2014_11, 2014_12, 2015_1, 2015_2, 2015_3, 2015_4, 2015_5, 2015_6, 2015_7, 2015_8, 2015_9, 2015_10, 2015_11, 2015_12, Done!\n"
     ]
    }
   ],
   "source": [
    "import itertools\n",
    "year_list = ['2005','2006','2007','2008','2009','2010','2011','2012','2013','2014','2015']\n",
    "month_list = ['1','2','3','4','5','6','7','8','9','10','11','12']\n",
    "\n",
    "air_df_dict = {}\n",
    "\n",
    "print('Gathering files ...')\n",
    "for (year_str,month_str) in list(itertools.product(year_list,month_list)):\n",
    "    year_month_str = '%s_%s'%(year_str,month_str)\n",
    "    print('%s, '%(year_month_str), end=\"\")\n",
    "    air_df_dict[year_month_str] = spark.read.csv( \n",
    "        'hdfs://master:9000/user/michael/data/airline/On_Time_On_Time_Performance_%s.csv'%(year_month_str), \n",
    "        header=True, \n",
    "        schema=air_schema,\n",
    "        escape='\"')\n",
    "print('Done!')"
   ]
  },
  {
   "cell_type": "code",
   "execution_count": 3,
   "metadata": {
    "collapsed": false
   },
   "outputs": [
    {
     "name": "stdout",
     "output_type": "stream",
     "text": [
      "Processing 2010_7, 2012_5, 2014_3, 2013_9, 2012_4, 2006_8, 2007_3, 2008_10, 2009_5, 2015_7, 2006_4, 2006_10, 2015_8, 2012_12, 2012_9, 2007_10, 2013_4, 2013_8, 2008_4, 2011_5, 2006_11, 2009_9, 2005_2, 2009_8, 2010_8, 2008_9, 2007_1, 2009_1, 2009_10, 2012_11, 2014_4, 2012_8, 2007_11, 2014_11, 2011_2, 2009_3, 2011_7, 2008_3, 2010_2, 2015_9, 2015_5, 2015_6, 2006_1, 2008_1, 2007_9, 2011_10, 2013_12, 2011_6, 2014_5, 2014_9, 2009_12, 2013_3, 2009_2, 2010_6, 2011_4, 2013_7, 2007_6, 2013_2, 2008_12, 2011_8, 2006_5, 2005_8, 2006_9, 2005_3, 2012_1, 2011_1, 2006_7, 2011_9, 2012_2, 2008_8, 2012_7, 2006_6, 2008_2, 2005_7, 2013_1, 2005_5, 2010_9, 2009_7, 2010_12, 2014_7, 2013_11, 2007_5, 2011_11, 2011_3, 2012_3, 2005_9, 2010_11, 2008_7, 2014_2, 2006_12, 2012_6, 2008_6, 2008_5, 2010_4, 2007_2, 2005_4, 2014_6, 2006_2, 2005_6, 2015_10, 2007_7, 2009_11, 2005_10, 2010_5, 2015_4, 2015_2, 2011_12, 2006_3, 2005_11, 2007_4, 2015_3, 2013_5, 2012_10, 2005_1, 2009_4, 2015_11, 2007_12, 2007_8, 2010_1, 2013_6, 2005_12, 2015_1, 2010_3, 2014_8, 2014_12, 2009_6, 2014_10, 2008_11, 2010_10, 2015_12, 2013_10, 2014_1, Done!\n"
     ]
    }
   ],
   "source": [
    "from datetime import datetime\n",
    "from pyspark.sql.functions import col, udf, unix_timestamp\n",
    "from pyspark.sql.types import DateType\n",
    "from pyspark import StorageLevel\n",
    "\n",
    "convertToDate = udf(lambda x: datetime.strptime(x, '%Y-%M-%d'), DateType())\n",
    "\n",
    "airline_data_parts = []\n",
    "\n",
    "print('Processing ', end=\"\")\n",
    "for year_month_str, air_df in air_df_dict.items():\n",
    "    print('%s, '%(year_month_str), end=\"\")\n",
    "    airline_data = air_df.select(\n",
    "            \"Year\",\"Quarter\",\"Month\",\"DayofMonth\",\"DayOfWeek\",\"FlightDate\",\"UniqueCarrier\",\"AirlineID\",\n",
    "            \"Carrier\",\"TailNum\",\"FlightNum\",\"OriginAirportID\",\"OriginAirportSeqID\",\"OriginCityMarketID\",\n",
    "            \"Origin\",\"OriginCityName\",\"OriginState\",\"OriginStateFips\",\"OriginStateName\",\"OriginWac\",\n",
    "            \"DestAirportID\",\"DestAirportSeqID\",\"DestCityMarketID\",\"Dest\",\"DestCityName\",\"DestState\",\n",
    "            \"DestStateFips\",\"DestStateName\",\"DestWac\",\"CRSDepTime\",\"DepTime\",\"DepDelay\",\"DepDelayMinutes\",\n",
    "            \"DepDel15\",\"DepartureDelayGroups\",\"DepTimeBlk\",\"TaxiOut\",\"WheelsOff\",\"WheelsOn\",\"TaxiIn\",\"CRSArrTime\",\n",
    "            \"ArrTime\",\"ArrDelay\",\"ArrDelayMinutes\",\"ArrDel15\",\"ArrivalDelayGroups\",\"ArrTimeBlk\",\"Cancelled\",\n",
    "            \"CancellationCode\",\"Diverted\",\"CRSElapsedTime\",\"ActualElapsedTime\",\"AirTime\",\"Flights\",\"Distance\",\n",
    "            \"DistanceGroup\",\"CarrierDelay\",\"WeatherDelay\",\"NASDelay\",\"SecurityDelay\",\"LateAircraftDelay\"\n",
    "        ).withColumn(\n",
    "            'FlightDate', convertToDate(col('FlightDate'))\n",
    "        ).coalesce(1).persist(StorageLevel.DISK_ONLY)\n",
    "    \n",
    "    airline_data_parts.append(airline_data)\n",
    "\n",
    "print('Done!')"
   ]
  },
  {
   "cell_type": "code",
   "execution_count": 4,
   "metadata": {
    "collapsed": false
   },
   "outputs": [
    {
     "name": "stdout",
     "output_type": "stream",
     "text": [
      "Unionizing data frames 0, 1, 2, 3, 4, 5, 6, 7, 8, 9, 10, 11, 12, 13, 14, 15, 16, 17, 18, 19, 20, 21, 22, 23, 24, 25, 26, 27, 28, 29, 30, 31, 32, 33, 34, 35, 36, 37, 38, 39, 40, 41, 42, 43, 44, 45, 46, 47, 48, 49, 50, 51, 52, 53, 54, 55, 56, 57, 58, 59, 60, 61, 62, 63, 64, 65, 66, 67, 68, 69, 70, 71, 72, 73, 74, 75, 76, 77, 78, 79, 80, 81, 82, 83, 84, 85, 86, 87, 88, 89, 90, 91, 92, 93, 94, 95, 96, 97, 98, 99, 100, 101, 102, 103, 104, 105, 106, 107, 108, 109, 110, 111, 112, 113, 114, 115, 116, 117, 118, 119, 120, 121, 122, 123, 124, 125, 126, 127, 128, 129, 130, 131,  Done!\n",
      "Starting export to HDFS...\n",
      "Done!\n"
     ]
    }
   ],
   "source": [
    "master_data = airline_data_parts[0]\n",
    "\n",
    "print('Unionizing data frames 0, ', end=\"\")\n",
    "for i in range(1,len(airline_data_parts)):\n",
    "    print('%d, '%(i), end=\"\")\n",
    "    master_data = master_data.union(airline_data_parts[i])\n",
    "print(\" Done!\")\n",
    "print('Starting export to HDFS...')\n",
    "master_data.write.partitionBy(\n",
    "        \"Year\",\"Month\"\n",
    "    ).parquet(\n",
    "        'hdfs://master:9000/user/michael/data/airline_data',\n",
    "        mode='overwrite'\n",
    "    )\n",
    "print('Done!')"
   ]
  },
  {
   "cell_type": "code",
   "execution_count": 5,
   "metadata": {
    "collapsed": false
   },
   "outputs": [
    {
     "data": {
      "text/plain": [
       "[Row(Year=2010, Quarter=3, Month=7, DayofMonth=1, DayOfWeek=4, FlightDate=datetime.date(2010, 1, 1), UniqueCarrier='9E', AirlineID=20363, Carrier='9E', TailNum='87109E', FlightNum=3650, OriginAirportID=13487, OriginAirportSeqID=1348701, OriginCityMarketID=31650, Origin='MSP', OriginCityName='Minneapolis, MN', OriginState='MN', OriginStateFips=27, OriginStateName='Minnesota', OriginWac=63, DestAirportID=11066, DestAirportSeqID=1106601, DestCityMarketID=31066, Dest='CMH', DestCityName='Columbus, OH', DestState='OH', DestStateFips=39, DestStateName='Ohio', DestWac=44, CRSDepTime='0705', DepTime='0703', DepDelay=-2.0, DepDelayMinutes=0.0, DepDel15=0.0, DepartureDelayGroups=-1, DepTimeBlk='0700-0759', TaxiOut=26.0, WheelsOff='0729', WheelsOn='0951', TaxiIn=5.0, CRSArrTime='0958', ArrTime='0956', ArrDelay=-2.0, ArrDelayMinutes=0.0, ArrDel15=0.0, ArrivalDelayGroups=-1, ArrTimeBlk='0900-0959', Cancelled=0.0, CancellationCode=None, Diverted=0.0, CRSElapsedTime=113.0, ActualElapsedTime=113.0, AirTime=82.0, Flights=1.0, Distance=627.0, DistanceGroup=3, CarrierDelay=None, WeatherDelay=None, NASDelay=None, SecurityDelay=None, LateAircraftDelay=None)]"
      ]
     },
     "execution_count": 5,
     "metadata": {},
     "output_type": "execute_result"
    }
   ],
   "source": [
    "master_data.take(1)"
   ]
  },
  {
   "cell_type": "code",
   "execution_count": 6,
   "metadata": {
    "collapsed": false
   },
   "outputs": [],
   "source": [
    "from pyspark.sql import Row\n",
    "\n",
    "def mapAirlineIdRow(r):\n",
    "    airline_id = int(r.Code)\n",
    "    airline_name_parts = r.Description.split(':')\n",
    "    airline_name = airline_name_parts[0].strip()\n",
    "    iata_carrier = airline_name_parts[1].strip()\n",
    "    out = Row(\n",
    "        AirlineID=airline_id,\n",
    "        AirlineName=airline_name,\n",
    "        Carrier=iata_carrier\n",
    "    )\n",
    "    return out;\n",
    "\n",
    "airline_id_csv = spark.read.csv(\n",
    "    'hdfs://master:9000/user/michael/data/airline/airline-id-lookup-table.csv',\n",
    "    header=True,\n",
    "    escape='\"'\n",
    ")\n",
    "\n",
    "airline_id_df = airline_id_csv.rdd.map(mapAirlineIdRow).toDF().coalesce(1)\n",
    "airline_id_df.write.parquet(\n",
    "        'hdfs://master:9000/user/michael/data/airline_id_table',\n",
    "        mode='overwrite'\n",
    "    )"
   ]
  },
  {
   "cell_type": "code",
   "execution_count": 7,
   "metadata": {
    "collapsed": false
   },
   "outputs": [
    {
     "data": {
      "text/plain": [
       "[Row(AirlineID=19031, AirlineName='Mackey International Inc.', Carrier='MAC')]"
      ]
     },
     "execution_count": 7,
     "metadata": {},
     "output_type": "execute_result"
    }
   ],
   "source": [
    "airline_id_df.take(1)"
   ]
  },
  {
   "cell_type": "code",
   "execution_count": null,
   "metadata": {
    "collapsed": true
   },
   "outputs": [],
   "source": []
  }
 ],
 "metadata": {
  "kernelspec": {
   "display_name": "Python 3",
   "language": "python",
   "name": "python3"
  },
  "language_info": {
   "codemirror_mode": {
    "name": "ipython",
    "version": 3
   },
   "file_extension": ".py",
   "mimetype": "text/x-python",
   "name": "python",
   "nbconvert_exporter": "python",
   "pygments_lexer": "ipython3",
   "version": "3.4.3"
  }
 },
 "nbformat": 4,
 "nbformat_minor": 0
}
